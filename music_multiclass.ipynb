{
  "cells": [
    {
      "cell_type": "markdown",
      "metadata": {
        "id": "view-in-github",
        "colab_type": "text"
      },
      "source": [
        "<a href=\"https://colab.research.google.com/github/SylvanasBV/Computacion_cientifica-y-analitica/blob/main/music_multiclass.ipynb\" target=\"_parent\"><img src=\"https://colab.research.google.com/assets/colab-badge.svg\" alt=\"Open In Colab\"/></a>"
      ]
    },
    {
      "cell_type": "code",
      "execution_count": 21,
      "metadata": {
        "id": "Ys2l9OBcCy-X"
      },
      "outputs": [],
      "source": [
        "import pandas as pd\n",
        "\n",
        "import matplotlib.pyplot as plt\n",
        "%matplotlib inline\n",
        "\n",
        "from sklearn.neural_network import MLPClassifier\n",
        "\n",
        "from sklearn.metrics import ConfusionMatrixDisplay, precision_score, recall_score, f1_score\n",
        "\n",
        "from sklearn.preprocessing import StandardScaler\n",
        "from sklearn.model_selection import train_test_split"
      ]
    },
    {
      "cell_type": "code",
      "execution_count": 22,
      "metadata": {
        "id": "iqLrGzSyCy-c"
      },
      "outputs": [],
      "source": [
        "pd.options.display.max_columns = 100"
      ]
    },
    {
      "cell_type": "markdown",
      "metadata": {
        "id": "aAJFrkzjCy-c"
      },
      "source": [
        "### Reading the dataset"
      ]
    },
    {
      "cell_type": "code",
      "execution_count": 23,
      "metadata": {
        "id": "1bgRmzfXCy-g"
      },
      "outputs": [],
      "source": [
        "music_df = pd.read_csv('/content/msd_genre_dataset.txt')"
      ]
    },
    {
      "cell_type": "code",
      "execution_count": 24,
      "metadata": {
        "colab": {
          "base_uri": "https://localhost:8080/"
        },
        "id": "x1-2n0eoCy-h",
        "outputId": "ece55849-2d3e-4a26-cf5d-b01196889f33"
      },
      "outputs": [
        {
          "output_type": "execute_result",
          "data": {
            "text/plain": [
              "genre              object\n",
              "track_id           object\n",
              "artist_name        object\n",
              "title              object\n",
              "loudness          float64\n",
              "tempo             float64\n",
              "time_signature      int64\n",
              "key                 int64\n",
              "mode                int64\n",
              "duration          float64\n",
              "avg_timbre1       float64\n",
              "avg_timbre2       float64\n",
              "avg_timbre3       float64\n",
              "avg_timbre4       float64\n",
              "avg_timbre5       float64\n",
              "avg_timbre6       float64\n",
              "avg_timbre7       float64\n",
              "avg_timbre8       float64\n",
              "avg_timbre9       float64\n",
              "avg_timbre10      float64\n",
              "avg_timbre11      float64\n",
              "avg_timbre12      float64\n",
              "var_timbre1       float64\n",
              "var_timbre2       float64\n",
              "var_timbre3       float64\n",
              "var_timbre4       float64\n",
              "var_timbre5       float64\n",
              "var_timbre6       float64\n",
              "var_timbre7       float64\n",
              "var_timbre8       float64\n",
              "var_timbre9       float64\n",
              "var_timbre10      float64\n",
              "var_timbre11      float64\n",
              "var_timbre12      float64\n",
              "dtype: object"
            ]
          },
          "metadata": {},
          "execution_count": 24
        }
      ],
      "source": [
        "music_df.dtypes"
      ]
    },
    {
      "cell_type": "code",
      "execution_count": 25,
      "metadata": {
        "colab": {
          "base_uri": "https://localhost:8080/",
          "height": 531
        },
        "id": "JPhC9CtTCy-i",
        "outputId": "0eeacd07-cbd8-481d-ecae-7a98beb28de2"
      },
      "outputs": [
        {
          "output_type": "execute_result",
          "data": {
            "text/plain": [
              "                  genre            track_id       artist_name  \\\n",
              "0  classic pop and rock  TRFCOOU128F427AEC0  Blue Oyster Cult   \n",
              "1  classic pop and rock  TRNJTPB128F427AE9F  Blue Oyster Cult   \n",
              "2  classic pop and rock  TRLFJHA128F427AEEA  Blue Oyster Cult   \n",
              "3  classic pop and rock  TRCQZAG128F427DB97  Blue Oyster Cult   \n",
              "4  classic pop and rock  TRNXMNM128F427DB8C  Blue Oyster Cult   \n",
              "\n",
              "                     title  loudness    tempo  time_signature  key  mode  \\\n",
              "0          Mes Dames Sarat    -8.697  155.007               1    9     1   \n",
              "1                  Screams   -10.659  148.462               1    4     0   \n",
              "2     Dance The Night Away   -13.494  112.909               1   10     0   \n",
              "3            Debbie Denise   -12.786  117.429               4    7     1   \n",
              "4  (Don't Fear) The Reaper   -14.093  141.536               4    9     0   \n",
              "\n",
              "    duration  avg_timbre1  avg_timbre2  avg_timbre3  avg_timbre4  avg_timbre5  \\\n",
              "0  246.33424    46.673067    14.613684    14.664215     0.176561    -9.346377   \n",
              "1  189.80526    43.645377   -87.337150    41.051582     7.814770   -12.989848   \n",
              "2  158.19710    37.573538   -61.202030    28.760533   -13.788123    10.062347   \n",
              "3  250.22649    42.566615    17.217897    53.484213     1.564362    -8.884632   \n",
              "4  307.06893    40.976507   -13.609779    39.566169    -5.602033   -17.754819   \n",
              "\n",
              "   avg_timbre6  avg_timbre7  avg_timbre8  avg_timbre9  avg_timbre10  \\\n",
              "0   -12.341699    11.183382     7.405288     9.313765      3.201169   \n",
              "1   -14.253599     6.126045    -2.448662    22.691713     -2.872706   \n",
              "2    -4.872030   -14.090243     5.580175    15.414011      4.556137   \n",
              "3   -13.088890    -9.762620     1.373769     1.092876      1.479490   \n",
              "4   -21.833261    -5.600732     2.291770     3.526177      1.535449   \n",
              "\n",
              "   avg_timbre11  avg_timbre12  var_timbre1  var_timbre2  var_timbre3  \\\n",
              "0     -0.152734      5.809709    14.930820   802.205948  1255.514569   \n",
              "1      1.427725     -6.710730    22.704843  1561.307072  2007.653070   \n",
              "2     -1.877363     20.879475    58.459621  4644.001846  1204.856777   \n",
              "3      1.517015      8.562618    22.575460   691.140671   809.755802   \n",
              "4      2.763958      3.388757    34.294994  1062.180815  1093.684935   \n",
              "\n",
              "   var_timbre4  var_timbre5  var_timbre6  var_timbre7  var_timbre8  \\\n",
              "0   580.030472   598.485223   575.337671   322.068603   321.726029   \n",
              "1  1043.474073   585.694981   564.013736   510.177022   400.200186   \n",
              "2  2736.520024   730.233239   665.203452   535.775111   439.335059   \n",
              "3   563.908070   492.803819   378.382799   372.875044   231.941957   \n",
              "4   343.556047   889.163314   218.111796   304.862864   178.352161   \n",
              "\n",
              "   var_timbre9  var_timbre10  var_timbre11  var_timbre12  \n",
              "0   232.700609    186.805303    181.938688    151.508011  \n",
              "1   365.119588    238.099708    197.933757    251.577525  \n",
              "2   486.822970    265.333860    447.097987    251.880724  \n",
              "3   246.313305    168.400152     85.282462    339.897173  \n",
              "4   440.478867    142.669283     81.061326    208.355152  "
            ],
            "text/html": [
              "\n",
              "  <div id=\"df-a7e3921b-6712-44ca-ae82-34d5a6920112\">\n",
              "    <div class=\"colab-df-container\">\n",
              "      <div>\n",
              "<style scoped>\n",
              "    .dataframe tbody tr th:only-of-type {\n",
              "        vertical-align: middle;\n",
              "    }\n",
              "\n",
              "    .dataframe tbody tr th {\n",
              "        vertical-align: top;\n",
              "    }\n",
              "\n",
              "    .dataframe thead th {\n",
              "        text-align: right;\n",
              "    }\n",
              "</style>\n",
              "<table border=\"1\" class=\"dataframe\">\n",
              "  <thead>\n",
              "    <tr style=\"text-align: right;\">\n",
              "      <th></th>\n",
              "      <th>genre</th>\n",
              "      <th>track_id</th>\n",
              "      <th>artist_name</th>\n",
              "      <th>title</th>\n",
              "      <th>loudness</th>\n",
              "      <th>tempo</th>\n",
              "      <th>time_signature</th>\n",
              "      <th>key</th>\n",
              "      <th>mode</th>\n",
              "      <th>duration</th>\n",
              "      <th>avg_timbre1</th>\n",
              "      <th>avg_timbre2</th>\n",
              "      <th>avg_timbre3</th>\n",
              "      <th>avg_timbre4</th>\n",
              "      <th>avg_timbre5</th>\n",
              "      <th>avg_timbre6</th>\n",
              "      <th>avg_timbre7</th>\n",
              "      <th>avg_timbre8</th>\n",
              "      <th>avg_timbre9</th>\n",
              "      <th>avg_timbre10</th>\n",
              "      <th>avg_timbre11</th>\n",
              "      <th>avg_timbre12</th>\n",
              "      <th>var_timbre1</th>\n",
              "      <th>var_timbre2</th>\n",
              "      <th>var_timbre3</th>\n",
              "      <th>var_timbre4</th>\n",
              "      <th>var_timbre5</th>\n",
              "      <th>var_timbre6</th>\n",
              "      <th>var_timbre7</th>\n",
              "      <th>var_timbre8</th>\n",
              "      <th>var_timbre9</th>\n",
              "      <th>var_timbre10</th>\n",
              "      <th>var_timbre11</th>\n",
              "      <th>var_timbre12</th>\n",
              "    </tr>\n",
              "  </thead>\n",
              "  <tbody>\n",
              "    <tr>\n",
              "      <th>0</th>\n",
              "      <td>classic pop and rock</td>\n",
              "      <td>TRFCOOU128F427AEC0</td>\n",
              "      <td>Blue Oyster Cult</td>\n",
              "      <td>Mes Dames Sarat</td>\n",
              "      <td>-8.697</td>\n",
              "      <td>155.007</td>\n",
              "      <td>1</td>\n",
              "      <td>9</td>\n",
              "      <td>1</td>\n",
              "      <td>246.33424</td>\n",
              "      <td>46.673067</td>\n",
              "      <td>14.613684</td>\n",
              "      <td>14.664215</td>\n",
              "      <td>0.176561</td>\n",
              "      <td>-9.346377</td>\n",
              "      <td>-12.341699</td>\n",
              "      <td>11.183382</td>\n",
              "      <td>7.405288</td>\n",
              "      <td>9.313765</td>\n",
              "      <td>3.201169</td>\n",
              "      <td>-0.152734</td>\n",
              "      <td>5.809709</td>\n",
              "      <td>14.930820</td>\n",
              "      <td>802.205948</td>\n",
              "      <td>1255.514569</td>\n",
              "      <td>580.030472</td>\n",
              "      <td>598.485223</td>\n",
              "      <td>575.337671</td>\n",
              "      <td>322.068603</td>\n",
              "      <td>321.726029</td>\n",
              "      <td>232.700609</td>\n",
              "      <td>186.805303</td>\n",
              "      <td>181.938688</td>\n",
              "      <td>151.508011</td>\n",
              "    </tr>\n",
              "    <tr>\n",
              "      <th>1</th>\n",
              "      <td>classic pop and rock</td>\n",
              "      <td>TRNJTPB128F427AE9F</td>\n",
              "      <td>Blue Oyster Cult</td>\n",
              "      <td>Screams</td>\n",
              "      <td>-10.659</td>\n",
              "      <td>148.462</td>\n",
              "      <td>1</td>\n",
              "      <td>4</td>\n",
              "      <td>0</td>\n",
              "      <td>189.80526</td>\n",
              "      <td>43.645377</td>\n",
              "      <td>-87.337150</td>\n",
              "      <td>41.051582</td>\n",
              "      <td>7.814770</td>\n",
              "      <td>-12.989848</td>\n",
              "      <td>-14.253599</td>\n",
              "      <td>6.126045</td>\n",
              "      <td>-2.448662</td>\n",
              "      <td>22.691713</td>\n",
              "      <td>-2.872706</td>\n",
              "      <td>1.427725</td>\n",
              "      <td>-6.710730</td>\n",
              "      <td>22.704843</td>\n",
              "      <td>1561.307072</td>\n",
              "      <td>2007.653070</td>\n",
              "      <td>1043.474073</td>\n",
              "      <td>585.694981</td>\n",
              "      <td>564.013736</td>\n",
              "      <td>510.177022</td>\n",
              "      <td>400.200186</td>\n",
              "      <td>365.119588</td>\n",
              "      <td>238.099708</td>\n",
              "      <td>197.933757</td>\n",
              "      <td>251.577525</td>\n",
              "    </tr>\n",
              "    <tr>\n",
              "      <th>2</th>\n",
              "      <td>classic pop and rock</td>\n",
              "      <td>TRLFJHA128F427AEEA</td>\n",
              "      <td>Blue Oyster Cult</td>\n",
              "      <td>Dance The Night Away</td>\n",
              "      <td>-13.494</td>\n",
              "      <td>112.909</td>\n",
              "      <td>1</td>\n",
              "      <td>10</td>\n",
              "      <td>0</td>\n",
              "      <td>158.19710</td>\n",
              "      <td>37.573538</td>\n",
              "      <td>-61.202030</td>\n",
              "      <td>28.760533</td>\n",
              "      <td>-13.788123</td>\n",
              "      <td>10.062347</td>\n",
              "      <td>-4.872030</td>\n",
              "      <td>-14.090243</td>\n",
              "      <td>5.580175</td>\n",
              "      <td>15.414011</td>\n",
              "      <td>4.556137</td>\n",
              "      <td>-1.877363</td>\n",
              "      <td>20.879475</td>\n",
              "      <td>58.459621</td>\n",
              "      <td>4644.001846</td>\n",
              "      <td>1204.856777</td>\n",
              "      <td>2736.520024</td>\n",
              "      <td>730.233239</td>\n",
              "      <td>665.203452</td>\n",
              "      <td>535.775111</td>\n",
              "      <td>439.335059</td>\n",
              "      <td>486.822970</td>\n",
              "      <td>265.333860</td>\n",
              "      <td>447.097987</td>\n",
              "      <td>251.880724</td>\n",
              "    </tr>\n",
              "    <tr>\n",
              "      <th>3</th>\n",
              "      <td>classic pop and rock</td>\n",
              "      <td>TRCQZAG128F427DB97</td>\n",
              "      <td>Blue Oyster Cult</td>\n",
              "      <td>Debbie Denise</td>\n",
              "      <td>-12.786</td>\n",
              "      <td>117.429</td>\n",
              "      <td>4</td>\n",
              "      <td>7</td>\n",
              "      <td>1</td>\n",
              "      <td>250.22649</td>\n",
              "      <td>42.566615</td>\n",
              "      <td>17.217897</td>\n",
              "      <td>53.484213</td>\n",
              "      <td>1.564362</td>\n",
              "      <td>-8.884632</td>\n",
              "      <td>-13.088890</td>\n",
              "      <td>-9.762620</td>\n",
              "      <td>1.373769</td>\n",
              "      <td>1.092876</td>\n",
              "      <td>1.479490</td>\n",
              "      <td>1.517015</td>\n",
              "      <td>8.562618</td>\n",
              "      <td>22.575460</td>\n",
              "      <td>691.140671</td>\n",
              "      <td>809.755802</td>\n",
              "      <td>563.908070</td>\n",
              "      <td>492.803819</td>\n",
              "      <td>378.382799</td>\n",
              "      <td>372.875044</td>\n",
              "      <td>231.941957</td>\n",
              "      <td>246.313305</td>\n",
              "      <td>168.400152</td>\n",
              "      <td>85.282462</td>\n",
              "      <td>339.897173</td>\n",
              "    </tr>\n",
              "    <tr>\n",
              "      <th>4</th>\n",
              "      <td>classic pop and rock</td>\n",
              "      <td>TRNXMNM128F427DB8C</td>\n",
              "      <td>Blue Oyster Cult</td>\n",
              "      <td>(Don't Fear) The Reaper</td>\n",
              "      <td>-14.093</td>\n",
              "      <td>141.536</td>\n",
              "      <td>4</td>\n",
              "      <td>9</td>\n",
              "      <td>0</td>\n",
              "      <td>307.06893</td>\n",
              "      <td>40.976507</td>\n",
              "      <td>-13.609779</td>\n",
              "      <td>39.566169</td>\n",
              "      <td>-5.602033</td>\n",
              "      <td>-17.754819</td>\n",
              "      <td>-21.833261</td>\n",
              "      <td>-5.600732</td>\n",
              "      <td>2.291770</td>\n",
              "      <td>3.526177</td>\n",
              "      <td>1.535449</td>\n",
              "      <td>2.763958</td>\n",
              "      <td>3.388757</td>\n",
              "      <td>34.294994</td>\n",
              "      <td>1062.180815</td>\n",
              "      <td>1093.684935</td>\n",
              "      <td>343.556047</td>\n",
              "      <td>889.163314</td>\n",
              "      <td>218.111796</td>\n",
              "      <td>304.862864</td>\n",
              "      <td>178.352161</td>\n",
              "      <td>440.478867</td>\n",
              "      <td>142.669283</td>\n",
              "      <td>81.061326</td>\n",
              "      <td>208.355152</td>\n",
              "    </tr>\n",
              "  </tbody>\n",
              "</table>\n",
              "</div>\n",
              "      <button class=\"colab-df-convert\" onclick=\"convertToInteractive('df-a7e3921b-6712-44ca-ae82-34d5a6920112')\"\n",
              "              title=\"Convert this dataframe to an interactive table.\"\n",
              "              style=\"display:none;\">\n",
              "        \n",
              "  <svg xmlns=\"http://www.w3.org/2000/svg\" height=\"24px\"viewBox=\"0 0 24 24\"\n",
              "       width=\"24px\">\n",
              "    <path d=\"M0 0h24v24H0V0z\" fill=\"none\"/>\n",
              "    <path d=\"M18.56 5.44l.94 2.06.94-2.06 2.06-.94-2.06-.94-.94-2.06-.94 2.06-2.06.94zm-11 1L8.5 8.5l.94-2.06 2.06-.94-2.06-.94L8.5 2.5l-.94 2.06-2.06.94zm10 10l.94 2.06.94-2.06 2.06-.94-2.06-.94-.94-2.06-.94 2.06-2.06.94z\"/><path d=\"M17.41 7.96l-1.37-1.37c-.4-.4-.92-.59-1.43-.59-.52 0-1.04.2-1.43.59L10.3 9.45l-7.72 7.72c-.78.78-.78 2.05 0 2.83L4 21.41c.39.39.9.59 1.41.59.51 0 1.02-.2 1.41-.59l7.78-7.78 2.81-2.81c.8-.78.8-2.07 0-2.86zM5.41 20L4 18.59l7.72-7.72 1.47 1.35L5.41 20z\"/>\n",
              "  </svg>\n",
              "      </button>\n",
              "      \n",
              "  <style>\n",
              "    .colab-df-container {\n",
              "      display:flex;\n",
              "      flex-wrap:wrap;\n",
              "      gap: 12px;\n",
              "    }\n",
              "\n",
              "    .colab-df-convert {\n",
              "      background-color: #E8F0FE;\n",
              "      border: none;\n",
              "      border-radius: 50%;\n",
              "      cursor: pointer;\n",
              "      display: none;\n",
              "      fill: #1967D2;\n",
              "      height: 32px;\n",
              "      padding: 0 0 0 0;\n",
              "      width: 32px;\n",
              "    }\n",
              "\n",
              "    .colab-df-convert:hover {\n",
              "      background-color: #E2EBFA;\n",
              "      box-shadow: 0px 1px 2px rgba(60, 64, 67, 0.3), 0px 1px 3px 1px rgba(60, 64, 67, 0.15);\n",
              "      fill: #174EA6;\n",
              "    }\n",
              "\n",
              "    [theme=dark] .colab-df-convert {\n",
              "      background-color: #3B4455;\n",
              "      fill: #D2E3FC;\n",
              "    }\n",
              "\n",
              "    [theme=dark] .colab-df-convert:hover {\n",
              "      background-color: #434B5C;\n",
              "      box-shadow: 0px 1px 3px 1px rgba(0, 0, 0, 0.15);\n",
              "      filter: drop-shadow(0px 1px 2px rgba(0, 0, 0, 0.3));\n",
              "      fill: #FFFFFF;\n",
              "    }\n",
              "  </style>\n",
              "\n",
              "      <script>\n",
              "        const buttonEl =\n",
              "          document.querySelector('#df-a7e3921b-6712-44ca-ae82-34d5a6920112 button.colab-df-convert');\n",
              "        buttonEl.style.display =\n",
              "          google.colab.kernel.accessAllowed ? 'block' : 'none';\n",
              "\n",
              "        async function convertToInteractive(key) {\n",
              "          const element = document.querySelector('#df-a7e3921b-6712-44ca-ae82-34d5a6920112');\n",
              "          const dataTable =\n",
              "            await google.colab.kernel.invokeFunction('convertToInteractive',\n",
              "                                                     [key], {});\n",
              "          if (!dataTable) return;\n",
              "\n",
              "          const docLinkHtml = 'Like what you see? Visit the ' +\n",
              "            '<a target=\"_blank\" href=https://colab.research.google.com/notebooks/data_table.ipynb>data table notebook</a>'\n",
              "            + ' to learn more about interactive tables.';\n",
              "          element.innerHTML = '';\n",
              "          dataTable['output_type'] = 'display_data';\n",
              "          await google.colab.output.renderOutput(dataTable, element);\n",
              "          const docLink = document.createElement('div');\n",
              "          docLink.innerHTML = docLinkHtml;\n",
              "          element.appendChild(docLink);\n",
              "        }\n",
              "      </script>\n",
              "    </div>\n",
              "  </div>\n",
              "  "
            ]
          },
          "metadata": {},
          "execution_count": 25
        }
      ],
      "source": [
        "music_df.head()"
      ]
    },
    {
      "cell_type": "code",
      "execution_count": 26,
      "metadata": {
        "colab": {
          "base_uri": "https://localhost:8080/"
        },
        "id": "dh3L48hRCy-k",
        "outputId": "6f9b116f-3804-4bb6-bec7-e9d34b1f4255"
      },
      "outputs": [
        {
          "output_type": "execute_result",
          "data": {
            "text/plain": [
              "classic pop and rock     0.400923\n",
              "folk                     0.221342\n",
              "dance and electronica    0.082802\n",
              "jazz and blues           0.072718\n",
              "soul and reggae          0.067383\n",
              "punk                     0.053691\n",
              "metal                    0.035285\n",
              "classical                0.031443\n",
              "pop                      0.027131\n",
              "hip-hop                  0.007282\n",
              "Name: genre, dtype: float64"
            ]
          },
          "metadata": {},
          "execution_count": 26
        }
      ],
      "source": [
        "music_df['genre'].value_counts(normalize = True)"
      ]
    },
    {
      "cell_type": "code",
      "execution_count": 27,
      "metadata": {
        "id": "u1fuWRwqCy-l"
      },
      "outputs": [],
      "source": [
        "music_df.loc[music_df['genre'] == 'classic pop and rock', 'genre'] = 0\n",
        "music_df.loc[music_df['genre'] == 'folk', 'genre'] = 1\n",
        "music_df.loc[music_df['genre'] == 'dance and electronica', 'genre'] = 2\n",
        "music_df.loc[music_df['genre'] == 'jazz and blues', 'genre'] = 3\n",
        "music_df.loc[music_df['genre'] == 'soul and reggae', 'genre'] = 4\n",
        "music_df.loc[music_df['genre'] == 'punk', 'genre'] = 5\n",
        "music_df.loc[music_df['genre'] == 'metal', 'genre'] = 6\n",
        "music_df.loc[music_df['genre'] == 'classical', 'genre'] = 7\n",
        "music_df.loc[music_df['genre'] == 'pop', 'genre'] = 8\n",
        "music_df.loc[music_df['genre'] == 'hip-hop', 'genre'] = 9"
      ]
    },
    {
      "cell_type": "code",
      "execution_count": 28,
      "metadata": {
        "id": "_7zONJp9Cy-m"
      },
      "outputs": [],
      "source": [
        "music_df['genre'] = music_df['genre'].astype(int)"
      ]
    },
    {
      "cell_type": "markdown",
      "metadata": {
        "id": "rvjBtUL4Cy-n"
      },
      "source": [
        "### Splitting train and test datasets"
      ]
    },
    {
      "cell_type": "code",
      "execution_count": 29,
      "metadata": {
        "id": "PtqNIz5rCy-n"
      },
      "outputs": [],
      "source": [
        "X = music_df[music_df.columns.tolist()[4:]]"
      ]
    },
    {
      "cell_type": "code",
      "execution_count": 30,
      "metadata": {
        "id": "Qo1MwWQLCy-o"
      },
      "outputs": [],
      "source": [
        "Y = music_df['genre']"
      ]
    },
    {
      "cell_type": "code",
      "execution_count": 31,
      "metadata": {
        "id": "YhCgBOk8Cy-o"
      },
      "outputs": [],
      "source": [
        "X_train, X_test, Y_train, Y_test = train_test_split(X, Y, test_size = 0.3, stratify = Y)"
      ]
    },
    {
      "cell_type": "code",
      "execution_count": 32,
      "metadata": {
        "colab": {
          "base_uri": "https://localhost:8080/"
        },
        "id": "NXpkwDm6Cy-p",
        "outputId": "950c5a50-6109-4b64-f42d-7ade909ca511"
      },
      "outputs": [
        {
          "output_type": "execute_result",
          "data": {
            "text/plain": [
              "0    0.400935\n",
              "1    0.221333\n",
              "2    0.082790\n",
              "3    0.072723\n",
              "4    0.067378\n",
              "5    0.053691\n",
              "6    0.035283\n",
              "7    0.031448\n",
              "8    0.027133\n",
              "9    0.007287\n",
              "Name: genre, dtype: float64"
            ]
          },
          "metadata": {},
          "execution_count": 32
        }
      ],
      "source": [
        "pd.Series(Y_train).value_counts(normalize = True)"
      ]
    },
    {
      "cell_type": "code",
      "execution_count": 33,
      "metadata": {
        "colab": {
          "base_uri": "https://localhost:8080/"
        },
        "id": "Q77jPOAyCy-p",
        "outputId": "abce7d98-02ed-40e9-d128-bbe5763d92bf"
      },
      "outputs": [
        {
          "output_type": "execute_result",
          "data": {
            "text/plain": [
              "0    0.400895\n",
              "1    0.221365\n",
              "2    0.082830\n",
              "3    0.072707\n",
              "4    0.067394\n",
              "5    0.053691\n",
              "6    0.035291\n",
              "7    0.031432\n",
              "8    0.027125\n",
              "9    0.007271\n",
              "Name: genre, dtype: float64"
            ]
          },
          "metadata": {},
          "execution_count": 33
        }
      ],
      "source": [
        "pd.Series(Y_test).value_counts(normalize = True)"
      ]
    },
    {
      "cell_type": "markdown",
      "metadata": {
        "id": "EYm5zT5_Cy-q"
      },
      "source": [
        "### Preprocessing feature matrix"
      ]
    },
    {
      "cell_type": "code",
      "execution_count": 34,
      "metadata": {
        "id": "wmCr67hwCy-q"
      },
      "outputs": [],
      "source": [
        "scaler = StandardScaler()\n",
        "X_train = scaler.fit_transform(X_train)"
      ]
    },
    {
      "cell_type": "code",
      "execution_count": 35,
      "metadata": {
        "id": "OpaqzjB-Cy-r"
      },
      "outputs": [],
      "source": [
        "X_test = scaler.transform(X_test)"
      ]
    },
    {
      "cell_type": "markdown",
      "metadata": {
        "id": "6yvcwBvVCy-r"
      },
      "source": [
        "### Training a multi-class Neural Networks model"
      ]
    },
    {
      "cell_type": "code",
      "execution_count": 36,
      "metadata": {
        "id": "Hl9NWrr2Cy-r"
      },
      "outputs": [],
      "source": [
        "neural_model = MLPClassifier((300, 300, 300, 300, 300, 300))"
      ]
    },
    {
      "cell_type": "code",
      "execution_count": 37,
      "metadata": {
        "colab": {
          "base_uri": "https://localhost:8080/"
        },
        "id": "LfFERfWcCy-s",
        "outputId": "64dd1ff4-b18b-4e63-f2d3-5a1f561ae367"
      },
      "outputs": [
        {
          "output_type": "execute_result",
          "data": {
            "text/plain": [
              "MLPClassifier(hidden_layer_sizes=(300, 300, 300, 300, 300, 300))"
            ]
          },
          "metadata": {},
          "execution_count": 37
        }
      ],
      "source": [
        "neural_model.fit(X_train, Y_train)"
      ]
    },
    {
      "cell_type": "code",
      "execution_count": 38,
      "metadata": {
        "id": "mzD_W2SQCy-s"
      },
      "outputs": [],
      "source": [
        "predictions = neural_model.predict(X_test)"
      ]
    },
    {
      "cell_type": "code",
      "execution_count": 39,
      "metadata": {
        "colab": {
          "base_uri": "https://localhost:8080/",
          "height": 1000
        },
        "id": "tHELiydKCy-s",
        "outputId": "90ed4a14-f4be-4283-baab-4d4e57e9f238"
      },
      "outputs": [
        {
          "output_type": "execute_result",
          "data": {
            "text/plain": [
              "<sklearn.metrics._plot.confusion_matrix.ConfusionMatrixDisplay at 0x7fe91ed579d0>"
            ]
          },
          "metadata": {},
          "execution_count": 39
        },
        {
          "output_type": "display_data",
          "data": {
            "text/plain": [
              "<Figure size 1440x1440 with 2 Axes>"
            ],
            "image/png": "[encoded data removed]"
          },
          "metadata": {
            "needs_background": "light"
          }
        },
        {
          "output_type": "display_data",
          "data": {
            "text/plain": [
              "<Figure size 432x288 with 2 Axes>"
            ],
            "image/png": "[encoded data removed]"
          },
          "metadata": {
            "needs_background": "light"
          }
        }
      ],
      "source": [
        "fig, ax = plt.subplots(figsize = (20, 20))\n",
        "ConfusionMatrixDisplay.from_predictions(Y_test, predictions, display_labels = ['classic pop and rock', 'folk', 'dance and electronica', 'jazz and blues', 'soul and reggae', 'punk', 'metal', 'classical', 'pop', 'hip-hop']).plot(ax = ax)\n"
      ]
    },
    {
      "cell_type": "code",
      "execution_count": 39,
      "metadata": {
        "id": "DxILxGcyCy-t"
      },
      "outputs": [],
      "source": [
        ""
      ]
    }
  ],
  "metadata": {
    "kernelspec": {
      "display_name": "Python 3",
      "language": "python",
      "name": "python3"
    },
    "language_info": {
      "codemirror_mode": {
        "name": "ipython",
        "version": 3
      },
      "file_extension": ".py",
      "mimetype": "text/x-python",
      "name": "python",
      "nbconvert_exporter": "python",
      "pygments_lexer": "ipython3",
      "version": "3.7.6"
    },
    "colab": {
      "name": "music-multiclass.ipynb",
      "provenance": [],
      "include_colab_link": true
    }
  },
  "nbformat": 4,
  "nbformat_minor": 0
}